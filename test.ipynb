{
 "cells": [
  {
   "cell_type": "code",
   "execution_count": 1,
   "id": "963891d6-8b91-4506-ad18-1608618a2637",
   "metadata": {},
   "outputs": [],
   "source": [
    "from src.utils import generate_word_freq, generate_word_freq_fa, print_valid, print_position_invalid, print_invalid"
   ]
  },
  {
   "cell_type": "markdown",
   "id": "0f0d7b96-3ce5-43e9-8768-6f89f2fd8080",
   "metadata": {},
   "source": [
    "# Read Data"
   ]
  },
  {
   "cell_type": "markdown",
   "id": "210c78ba-0c22-41f5-be00-99461b97b1ee",
   "metadata": {},
   "source": [
    "Data source: \n",
    "\n",
    "\n",
    "\n",
    "Word frequency data from kaggle (genrated .txt from .csv by Pytopia.ai):\n",
    "https://www.kaggle.com/datasets/rtatman/english-word-frequency\n"
   ]
  },
  {
   "cell_type": "markdown",
   "id": "b050f57c-748d-4f0d-b36c-14d7732257e4",
   "metadata": {},
   "source": [
    "# Build data"
   ]
  },
  {
   "cell_type": "code",
   "execution_count": 92,
   "id": "c2938b2e-0b41-4f1b-bf51-6b1870c2adce",
   "metadata": {},
   "outputs": [],
   "source": [
    "file_path = './src/data/words_frequency.txt'"
   ]
  },
  {
   "cell_type": "code",
   "execution_count": 93,
   "id": "6d924710-9f50-4880-bff3-9af2d28a0ffb",
   "metadata": {},
   "outputs": [],
   "source": [
    "word_count = 5\n",
    "limit = 1000 "
   ]
  },
  {
   "cell_type": "code",
   "execution_count": 94,
   "id": "4d9677a2-146a-4ac5-ba69-1c91f3508365",
   "metadata": {
    "scrolled": true
   },
   "outputs": [],
   "source": [
    "words = generate_word_freq(file_path, word_count=word_count, limit=limit)"
   ]
  },
  {
   "cell_type": "code",
   "execution_count": 95,
   "id": "b028e2d7-60f7-4255-a4b5-0a36b841016f",
   "metadata": {},
   "outputs": [
    {
     "data": {
      "text/plain": [
       "1000"
      ]
     },
     "execution_count": 95,
     "metadata": {},
     "output_type": "execute_result"
    }
   ],
   "source": [
    "len(words)"
   ]
  },
  {
   "cell_type": "markdown",
   "id": "b533a67f-c08b-47de-bdc4-09230cee436f",
   "metadata": {},
   "source": [
    "# Game input_output"
   ]
  },
  {
   "cell_type": "markdown",
   "id": "c84ed8f1-b191-486f-a749-38f2c0023da1",
   "metadata": {},
   "source": [
    "## generating the answer word:"
   ]
  },
  {
   "cell_type": "code",
   "execution_count": 96,
   "id": "470e46fc-889b-44a7-86ee-7aabaea96c37",
   "metadata": {},
   "outputs": [],
   "source": [
    "import random"
   ]
  },
  {
   "cell_type": "code",
   "execution_count": 97,
   "id": "d951e740-1ab9-4bb7-8ca3-f48a932bfb01",
   "metadata": {},
   "outputs": [],
   "source": [
    "random.seed(42)"
   ]
  },
  {
   "cell_type": "code",
   "execution_count": 98,
   "id": "94f9acb5-df21-4244-9950-44a8c9d9c808",
   "metadata": {},
   "outputs": [],
   "source": [
    "# answer_index = random.randint(0, len(words) - 1)\n",
    "# answer_word = words[answer_index]\n",
    "\n",
    "# print(answer_word, answer_index)"
   ]
  },
  {
   "cell_type": "code",
   "execution_count": 99,
   "id": "300e7855-98c9-47ac-a678-f1687e3b1077",
   "metadata": {},
   "outputs": [],
   "source": [
    "answer_word = random.choice(words).upper()"
   ]
  },
  {
   "cell_type": "markdown",
   "id": "e8581444-8212-46b4-be29-501b559c0a1d",
   "metadata": {},
   "source": [
    "# Wordle"
   ]
  },
  {
   "cell_type": "code",
   "execution_count": 100,
   "id": "1140ff7f-2931-4374-b9e5-8980c4e98f7e",
   "metadata": {},
   "outputs": [
    {
     "name": "stdout",
     "output_type": "stream",
     "text": [
      "This is your 1 chance, to enter a 5 length word (or enter q to exit): wuale\n"
     ]
    },
    {
     "name": "stdout",
     "output_type": "stream",
     "text": [
      "\u001b[9m\u001b[7m\u001b[30mW\u001b[0m \u001b[9m\u001b[7m\u001b[30mU\u001b[0m \u001b[9m\u001b[7m\u001b[30mA\u001b[0m \u001b[9m\u001b[7m\u001b[30mL\u001b[0m \u001b[9m\u001b[7m\u001b[32mE\u001b[0m \n"
     ]
    },
    {
     "name": "stdout",
     "output_type": "stream",
     "text": [
      "This is your 2 chance, to enter a 5 length word (or enter q to exit): lance\n"
     ]
    },
    {
     "name": "stdout",
     "output_type": "stream",
     "text": [
      "\u001b[9m\u001b[7m\u001b[30mL\u001b[0m \u001b[9m\u001b[7m\u001b[30mA\u001b[0m \u001b[9m\u001b[7m\u001b[30mN\u001b[0m \u001b[9m\u001b[7m\u001b[30mC\u001b[0m \u001b[9m\u001b[7m\u001b[32mE\u001b[0m \n"
     ]
    },
    {
     "name": "stdout",
     "output_type": "stream",
     "text": [
      "This is your 3 chance, to enter a 5 length word (or enter q to exit): rhode\n"
     ]
    },
    {
     "name": "stdout",
     "output_type": "stream",
     "text": [
      "\u001b[9m\u001b[7m\u001b[32mR\u001b[0m \u001b[9m\u001b[7m\u001b[32mH\u001b[0m \u001b[9m\u001b[7m\u001b[32mO\u001b[0m \u001b[9m\u001b[7m\u001b[32mD\u001b[0m \u001b[9m\u001b[7m\u001b[32mE\u001b[0m \n",
      "\u001b[9m\u001b[7m\u001b[32mYou won hero! The word was RHODE\u001b[0m\n"
     ]
    }
   ],
   "source": [
    "num_try = 7\n",
    "try_num = 1\n",
    "\n",
    "while True:\n",
    "    guess = input(f'This is your {try_num} chance, to enter a {word_count} length word (or enter q to exit):').upper()\n",
    "    \n",
    "    if guess.lower() == \"q\":\n",
    "        break\n",
    "\n",
    "    # checking word length:\n",
    "    if len(guess) != word_count:\n",
    "        print(\"wrong word length! try again.\")\n",
    "        continue\n",
    "\n",
    "    # # checking if input is a meaningful word:\n",
    "    # if guess not in words:\n",
    "    #     print(\"Not a word! try again:\")\n",
    "    #     continue\n",
    "\n",
    "    # check input with answer:\n",
    "    for g_letter, a_letter in zip(guess, answer_word):\n",
    "        # print(g_letter, a_letter)\n",
    "        if g_letter == a_letter:\n",
    "            print_valid(g_letter, end=\" \")\n",
    "        elif g_letter in answer_word:\n",
    "            print_position_invalid(g_letter, end=\" \")\n",
    "        else:\n",
    "            print_invalid(g_letter, end=\" \")\n",
    "        \n",
    "    print()\n",
    "    \n",
    "    # check the success:\n",
    "    if guess == answer_word:\n",
    "        print_valid(f\"You won hero! The word was {answer_word}\")\n",
    "        break\n",
    "\n",
    "    try_num += 1\n",
    "    if try_num > num_try:\n",
    "        print_invalid(f\"The word was {answer_word}, sorry you didn't catch it :(\")\n",
    "        break"
   ]
  },
  {
   "cell_type": "markdown",
   "id": "6504b23b-6f86-4fff-8c5a-8512f94a32ec",
   "metadata": {},
   "source": [
    "# Testing Persian Data for Wordle"
   ]
  },
  {
   "cell_type": "markdown",
   "id": "b3577dc8-c781-437d-951e-35e8c8c6a5f0",
   "metadata": {},
   "source": [
    "## Datasets"
   ]
  },
  {
   "cell_type": "markdown",
   "id": "e834ee49-9e02-4be5-a22a-0f47c7a9be9d",
   "metadata": {
    "jp-MarkdownHeadingCollapsed": true
   },
   "source": [
    "### 1st dataset:"
   ]
  },
  {
   "cell_type": "code",
   "execution_count": 1,
   "id": "76ca220b-08a1-4b3e-aae2-d46bddea0473",
   "metadata": {},
   "outputs": [],
   "source": [
    "import json\n",
    "\n",
    "with open('./src/data/data.json', 'r') as file:\n",
    "    data_list = json.load(file)"
   ]
  },
  {
   "cell_type": "code",
   "execution_count": 14,
   "id": "398fefc4",
   "metadata": {},
   "outputs": [
    {
     "data": {
      "text/plain": [
       "2213"
      ]
     },
     "execution_count": 14,
     "metadata": {},
     "output_type": "execute_result"
    }
   ],
   "source": [
    "# type(data_list['word'])\n",
    "# dir(data_list['word'])\n",
    "len(data_list['word'])"
   ]
  },
  {
   "cell_type": "markdown",
   "id": "63030f7e-27c3-4a38-8f41-ae83ed82ebb8",
   "metadata": {},
   "source": [
    "### 2nd dataset:"
   ]
  },
  {
   "cell_type": "markdown",
   "id": "528c40a0-775c-4cb8-ad18-85b484c8d9a5",
   "metadata": {},
   "source": []
  },
  {
   "cell_type": "code",
   "execution_count": 2,
   "id": "426b60b5-4718-4395-b1e6-3c9e773f541c",
   "metadata": {},
   "outputs": [
    {
     "name": "stdout",
     "output_type": "stream",
     "text": [
      "1000\n"
     ]
    }
   ],
   "source": [
    "faword_list = generate_word_freq_fa('./src/data/persian-wikipedia.txt')\n",
    "print(len(faword_list))"
   ]
  },
  {
   "cell_type": "code",
   "execution_count": 3,
   "id": "4404ac59-ac2c-43ce-b6df-91698b9e169c",
   "metadata": {
    "scrolled": true
   },
   "outputs": [
    {
     "data": {
      "text/plain": [
       "['ایران',\n",
       " 'منابع',\n",
       " 'تاریخ',\n",
       " 'سیارک',\n",
       " 'استان',\n",
       " 'عنوان',\n",
       " 'بیرون',\n",
       " 'تهران',\n",
       " 'پیوند',\n",
       " 'جمعیت',\n",
       " 'برابر',\n",
       " 'هستند',\n",
       " 'مرکزی',\n",
       " 'زندگی',\n",
       " 'دارای',\n",
       " 'فارسی',\n",
       " 'اجرام',\n",
       " 'تصویر',\n",
       " 'فهرست',\n",
       " 'مانند',\n",
       " 'بیشتر',\n",
       " 'منطقه',\n",
       " 'بسیار',\n",
       " 'انجام',\n",
       " 'بودند',\n",
       " 'داشته',\n",
       " 'دارند',\n",
       " 'اولین',\n",
       " 'روستا',\n",
       " 'گرفته',\n",
       " 'تولید',\n",
       " 'تشکیل',\n",
       " 'همراه',\n",
       " 'سیاسی',\n",
       " 'دوران',\n",
       " 'ایجاد',\n",
       " 'جهانی',\n",
       " 'مختلف',\n",
       " 'ساخته',\n",
       " 'فرهنگ',\n",
       " 'کردند',\n",
       " 'جایزه',\n",
       " 'افراد',\n",
       " 'درگاه',\n",
       " 'متحده',\n",
       " 'زیادی',\n",
       " 'معروف',\n",
       " 'سیستم',\n",
       " 'پایان',\n",
       " 'تعداد',\n",
       " 'توابع',\n",
       " 'اسلام',\n",
       " 'جوایز',\n",
       " 'تغییر',\n",
       " 'اشاره',\n",
       " 'آلمان',\n",
       " 'حکومت',\n",
       " 'ترجمه',\n",
       " 'زمانی',\n",
       " 'نوشته',\n",
       " 'دیگری',\n",
       " 'قانون',\n",
       " 'جنوبی',\n",
       " 'عمومی',\n",
       " 'اینکه',\n",
       " 'شورای',\n",
       " 'ادامه',\n",
       " 'خواهد',\n",
       " 'منتشر',\n",
       " 'آلبوم',\n",
       " 'آن\\u200cها',\n",
       " 'می\\u200cشد',\n",
       " 'مربوط',\n",
       " 'آموزش',\n",
       " 'اعلام',\n",
       " 'گردید',\n",
       " 'اروپا',\n",
       " 'اهالی',\n",
       " 'شمالی',\n",
       " 'اعضای',\n",
       " 'تبدیل',\n",
       " 'انسان',\n",
       " 'مناطق',\n",
       " 'نیروی',\n",
       " 'وزارت',\n",
       " 'نظامی',\n",
       " 'تقویم',\n",
       " 'شماره',\n",
       " 'موجود',\n",
       " 'توسعه',\n",
       " 'کننده',\n",
       " 'ریاست',\n",
       " 'طبیعی',\n",
       " 'جریان',\n",
       " 'هنگام',\n",
       " 'ایالت',\n",
       " 'جزیره',\n",
       " 'داخلی',\n",
       " 'طراحی',\n",
       " 'نتیجه',\n",
       " 'پزشکی',\n",
       " 'میلاد',\n",
       " 'استاد',\n",
       " 'نزدیک',\n",
       " 'انواع',\n",
       " 'گذشته',\n",
       " 'انجمن',\n",
       " 'ندارد',\n",
       " 'زمینه',\n",
       " 'روسیه',\n",
       " 'باشند',\n",
       " 'اکنون',\n",
       " 'بررسی',\n",
       " 'مدرسه',\n",
       " 'ارائه',\n",
       " 'میرزا',\n",
       " 'نمایش',\n",
       " 'ترتیب',\n",
       " 'مشهور',\n",
       " 'جامعه',\n",
       " 'موارد',\n",
       " 'آخرین',\n",
       " 'کنترل',\n",
       " 'تقسیم',\n",
       " 'قدیمی',\n",
       " 'صنعتی',\n",
       " 'پهلوی',\n",
       " 'تبریز',\n",
       " 'بازار',\n",
       " 'محمود',\n",
       " 'مساحت',\n",
       " 'آزادی',\n",
       " 'البته',\n",
       " 'وبگاه',\n",
       " 'فرزند',\n",
       " 'معرفی',\n",
       " 'خارجی',\n",
       " 'نشانی',\n",
       " 'انرژی',\n",
       " 'تعریف',\n",
       " 'میدان',\n",
       " 'فاصله',\n",
       " 'علاوه',\n",
       " 'ابتدا',\n",
       " 'موضوع',\n",
       " 'معنای',\n",
       " 'کوتاه',\n",
       " 'شناسی',\n",
       " 'میزان',\n",
       " 'سالگی',\n",
       " 'چهارم',\n",
       " 'اجرای',\n",
       " 'فلسفه',\n",
       " 'نظریه',\n",
       " 'اکتبر',\n",
       " 'متولد',\n",
       " 'اساسی',\n",
       " 'نمونه',\n",
       " 'جمهور',\n",
       " 'مقدار',\n",
       " 'ایشان',\n",
       " 'گسترش',\n",
       " 'رادیو',\n",
       " 'آوریل',\n",
       " 'مقابل',\n",
       " 'چندین',\n",
       " 'امکان',\n",
       " 'منظور',\n",
       " 'تحصیل',\n",
       " 'همچون',\n",
       " 'دولتی',\n",
       " 'شوروی',\n",
       " 'دستور',\n",
       " 'اولیه',\n",
       " 'هوایی',\n",
       " 'محسوب',\n",
       " 'ناحیه',\n",
       " 'توضیح',\n",
       " 'حمایت',\n",
       " 'اطراف',\n",
       " 'پایین',\n",
       " 'ستاره',\n",
       " 'دقیقه',\n",
       " 'کنونی',\n",
       " 'فیزیک',\n",
       " 'شیراز',\n",
       " 'معاصر',\n",
       " 'درمان',\n",
       " 'شرایط',\n",
       " 'سینما',\n",
       " 'صنایع',\n",
       " 'مشغول',\n",
       " 'عبارت',\n",
       " 'یافته',\n",
       " 'پاریس',\n",
       " 'تعیین',\n",
       " 'تأسیس',\n",
       " 'میانه',\n",
       " 'مذهبی',\n",
       " 'خرداد',\n",
       " 'دومین',\n",
       " 'فوریه',\n",
       " 'برنده',\n",
       " 'گزارش',\n",
       " 'خدمات',\n",
       " 'اداره',\n",
       " 'مرحله',\n",
       " 'سیاست',\n",
       " 'زندان',\n",
       " 'وسیله',\n",
       " 'بعدها',\n",
       " 'مقاله',\n",
       " 'مراسم',\n",
       " 'دریای',\n",
       " 'رهبری',\n",
       " 'گروهی',\n",
       " 'امروز',\n",
       " 'موسسه',\n",
       " 'سلطان',\n",
       " 'تمامی',\n",
       " 'فراهم',\n",
       " 'گرفتن',\n",
       " 'بصورت',\n",
       " 'کشوری',\n",
       " 'ترکیه',\n",
       " 'اسکار',\n",
       " 'یونان',\n",
       " 'روابط',\n",
       " 'مناسب',\n",
       " 'محدود',\n",
       " 'اهمیت',\n",
       " 'کرمان',\n",
       " 'ترکیب',\n",
       " 'تجاری',\n",
       " 'وضعیت',\n",
       " 'فضایی',\n",
       " 'دنبال',\n",
       " 'تاسیس',\n",
       " 'اقدام',\n",
       " 'ژوئیه',\n",
       " 'اواخر',\n",
       " 'رابطه',\n",
       " 'بزرگی',\n",
       " 'درآمد',\n",
       " 'مراکز',\n",
       " 'دادند',\n",
       " 'اعداد',\n",
       " 'مستقل',\n",
       " 'خمینی',\n",
       " 'بالای',\n",
       " 'ايران',\n",
       " 'الدین',\n",
       " 'مرتبط',\n",
       " 'مانده',\n",
       " 'برادر',\n",
       " 'گیتار',\n",
       " 'نموده',\n",
       " 'تصمیم',\n",
       " 'قاجار',\n",
       " 'پرورش',\n",
       " 'پیشین',\n",
       " 'مشترک',\n",
       " 'تشخیص',\n",
       " 'اضافه',\n",
       " 'مرداد',\n",
       " 'اجازه',\n",
       " 'ریاضی',\n",
       " 'امنیت',\n",
       " 'داشتن',\n",
       " 'مردان',\n",
       " 'نتایج',\n",
       " 'گذاری',\n",
       " 'شخصیت',\n",
       " 'ماشین',\n",
       " 'هدایت',\n",
       " 'پرواز',\n",
       " 'مسائل',\n",
       " 'ولایت',\n",
       " 'اوایل',\n",
       " 'متعلق',\n",
       " 'تأثیر',\n",
       " 'اتحاد',\n",
       " 'محصول',\n",
       " 'بنیاد',\n",
       " 'همیشه',\n",
       " 'نقاشی',\n",
       " 'حقیقت',\n",
       " 'فرمان',\n",
       " 'سلطنت',\n",
       " 'تئاتر',\n",
       " 'ترانه',\n",
       " 'مفهوم',\n",
       " 'تدریس',\n",
       " 'عوامل',\n",
       " 'تدوین',\n",
       " 'ورودی',\n",
       " 'گیلان',\n",
       " 'اشعار',\n",
       " 'پروژه',\n",
       " 'بنابر',\n",
       " 'خصوصی',\n",
       " 'دورهٔ',\n",
       " 'توزیع',\n",
       " 'نماید',\n",
       " 'رسیدن',\n",
       " 'مسعود',\n",
       " 'موتور',\n",
       " 'موسوی',\n",
       " 'اعدام',\n",
       " 'نامزد',\n",
       " 'اسفند',\n",
       " 'اعمال',\n",
       " 'تفسیر',\n",
       " 'تصویب',\n",
       " 'میراث',\n",
       " 'آورده',\n",
       " 'متوسط',\n",
       " 'اتفاق',\n",
       " 'آینده',\n",
       " 'زمینی',\n",
       " 'کمیته',\n",
       " 'احمدی',\n",
       " 'تربیت',\n",
       " 'تگزاس',\n",
       " 'سراسر',\n",
       " 'ورزشی',\n",
       " 'نوشتن',\n",
       " 'نواحی',\n",
       " 'مایکل',\n",
       " 'منتقل',\n",
       " 'کسانی',\n",
       " 'دنیای',\n",
       " 'تنظیم',\n",
       " 'همدان',\n",
       " 'سومین',\n",
       " 'تفاوت',\n",
       " 'شهرها',\n",
       " 'واقعی',\n",
       " 'عناصر',\n",
       " 'دامنه',\n",
       " 'سلسله',\n",
       " 'خودرو',\n",
       " 'مخصوص',\n",
       " 'نهایت',\n",
       " 'تاثیر',\n",
       " 'مشابه',\n",
       " 'تحلیل',\n",
       " 'طبیعت',\n",
       " 'رفتار',\n",
       " 'سرویس',\n",
       " 'ژاپنی',\n",
       " 'تجارت',\n",
       " 'جزایر',\n",
       " 'واکنش',\n",
       " 'دهخدا',\n",
       " 'نداشت',\n",
       " 'کوخرد',\n",
       " 'لبنان',\n",
       " 'طلایی',\n",
       " 'پارسی',\n",
       " 'صورتی',\n",
       " 'لاتین',\n",
       " 'ابزار',\n",
       " 'دهنده',\n",
       " 'علاقه',\n",
       " 'دیوان',\n",
       " 'پدیای',\n",
       " 'آسمان',\n",
       " 'اطلاع',\n",
       " 'شیرین',\n",
       " 'افزار',\n",
       " 'بوجود',\n",
       " 'حداقل',\n",
       " 'بودجه',\n",
       " 'اهداف',\n",
       " 'نشریه',\n",
       " 'ارسال',\n",
       " 'رسیده',\n",
       " 'سریال',\n",
       " 'ذخیره',\n",
       " 'کشیده',\n",
       " 'معادل',\n",
       " 'کیفیت',\n",
       " 'وظیفه',\n",
       " 'خواجه',\n",
       " 'بهرام',\n",
       " 'مصطفی',\n",
       " 'تحقیق',\n",
       " 'هاشمی',\n",
       " 'گذاشت',\n",
       " 'توصیف',\n",
       " 'تامین',\n",
       " 'ویژگی',\n",
       " 'زادهٔ',\n",
       " 'کاربر',\n",
       " 'جدیدی',\n",
       " 'ساختن',\n",
       " 'کنگره',\n",
       " 'کودکی',\n",
       " 'قزوین',\n",
       " 'حفاظت',\n",
       " 'یهودی',\n",
       " 'اسناد',\n",
       " 'کانال',\n",
       " 'عضویت',\n",
       " 'مجموع',\n",
       " 'اصلاح',\n",
       " 'رابرت',\n",
       " 'روایت',\n",
       " 'نهایی',\n",
       " 'تجربه',\n",
       " 'پرویز',\n",
       " 'دیوید',\n",
       " 'مسئله',\n",
       " 'کوچکی',\n",
       " 'بیستم',\n",
       " 'نظارت',\n",
       " 'اثبات',\n",
       " 'دیوار',\n",
       " 'بهبود',\n",
       " 'تخصصی',\n",
       " 'پیوست',\n",
       " 'آفتاب',\n",
       " 'قسمتی',\n",
       " 'پیمان',\n",
       " 'معاون',\n",
       " 'معتقد',\n",
       " 'پرنده',\n",
       " 'کتابی',\n",
       " 'حافظه',\n",
       " 'احداث',\n",
       " 'نویسی',\n",
       " 'گیاهی',\n",
       " 'باران',\n",
       " 'مرتضی',\n",
       " 'اقوام',\n",
       " 'شناخت',\n",
       " 'هزینه',\n",
       " 'آماده',\n",
       " 'مسیحی',\n",
       " 'مادرش',\n",
       " 'رساند',\n",
       " 'وسایل',\n",
       " 'قطعات',\n",
       " 'دانست',\n",
       " 'اگرچه',\n",
       " 'افتاد',\n",
       " 'دربار',\n",
       " 'مترجم',\n",
       " 'دیدار',\n",
       " 'اتصال',\n",
       " 'مؤسسه',\n",
       " 'آوردن',\n",
       " 'دیدنی',\n",
       " 'پنجاه',\n",
       " 'مرحوم',\n",
       " 'اینجا',\n",
       " 'خارجه',\n",
       " 'نسخهٔ',\n",
       " 'مسئول',\n",
       " 'غذایی',\n",
       " 'تخریب',\n",
       " 'سردار',\n",
       " 'اشغال',\n",
       " 'مخالف',\n",
       " 'کانون',\n",
       " 'تغذیه',\n",
       " 'محکوم',\n",
       " 'جکسون',\n",
       " 'گویند',\n",
       " 'مجبور',\n",
       " 'پژوهش',\n",
       " 'مراحل',\n",
       " 'جوانی',\n",
       " 'احساس',\n",
       " 'مراجع',\n",
       " 'سوریه',\n",
       " 'بغداد',\n",
       " 'خواست',\n",
       " 'فیلمی',\n",
       " 'پیاده',\n",
       " 'خواهر',\n",
       " 'وقایع',\n",
       " 'آسیای',\n",
       " 'مثلاً',\n",
       " 'مهندس',\n",
       " 'سیمرغ',\n",
       " 'صفحات',\n",
       " 'جمشید',\n",
       " 'محوطه',\n",
       " 'فلسفی',\n",
       " 'تالار',\n",
       " 'اطلاق',\n",
       " 'هرچند',\n",
       " 'یافتن',\n",
       " 'واژهٔ',\n",
       " 'ثانیه',\n",
       " 'مدارس',\n",
       " 'اقامت',\n",
       " 'بنیان',\n",
       " 'معمول',\n",
       " 'بیمار',\n",
       " 'عباسی',\n",
       " 'نگارش',\n",
       " 'پرتاب',\n",
       " 'خاتمی',\n",
       " 'متعدد',\n",
       " 'اداری',\n",
       " 'ظرفیت',\n",
       " 'اعراب',\n",
       " 'زنجان',\n",
       " 'اخبار',\n",
       " 'فاطمه',\n",
       " 'سنگین',\n",
       " 'منصور',\n",
       " 'سرطان',\n",
       " 'مطالب',\n",
       " 'گرایش',\n",
       " 'رسانی',\n",
       " 'اهواز',\n",
       " 'کاملا',\n",
       " 'بگیرد',\n",
       " 'مردمی',\n",
       " 'خلاصه',\n",
       " 'هفتاد',\n",
       " 'متغیر',\n",
       " 'چگونه',\n",
       " 'برزیل',\n",
       " 'حقیقی',\n",
       " 'حاشیه',\n",
       " 'امواج',\n",
       " 'رقابت',\n",
       " 'مواجه',\n",
       " 'احزاب',\n",
       " 'انبار',\n",
       " 'اکران',\n",
       " 'همسرش',\n",
       " 'برلین',\n",
       " 'علامه',\n",
       " 'حادثه',\n",
       " 'نوروز',\n",
       " 'تکرار',\n",
       " 'مستند',\n",
       " 'مبنای',\n",
       " 'مشتری',\n",
       " 'ابعاد',\n",
       " 'سابقه',\n",
       " 'آبادی',\n",
       " 'اخلاق',\n",
       " 'مطابق',\n",
       " 'پیانو',\n",
       " 'دلایل',\n",
       " 'نشانه',\n",
       " 'اندکی',\n",
       " 'بوشهر',\n",
       " 'تخیلی',\n",
       " 'تجزیه',\n",
       " 'جراحی',\n",
       " 'نباید',\n",
       " 'صنعاء',\n",
       " 'اشکال',\n",
       " 'فدرال',\n",
       " 'مقدمه',\n",
       " 'سمنان',\n",
       " 'سکونت',\n",
       " 'ایرنا',\n",
       " 'زیبای',\n",
       " 'فرهاد',\n",
       " 'طایفه',\n",
       " 'حسینی',\n",
       " 'متوجه',\n",
       " 'حرارت',\n",
       " 'خروجی',\n",
       " 'عقیده',\n",
       " 'حملات',\n",
       " 'آشکار',\n",
       " 'قلمرو',\n",
       " 'تایید',\n",
       " 'رساله',\n",
       " 'بخاطر',\n",
       " 'منصوب',\n",
       " 'اتریش',\n",
       " 'خلیفه',\n",
       " 'کلمات',\n",
       " 'تکامل',\n",
       " 'خواند',\n",
       " 'تئوری',\n",
       " 'ظاهری',\n",
       " 'تقویت',\n",
       " 'حوادث',\n",
       " 'موسوم',\n",
       " 'پذیرش',\n",
       " 'سیمای',\n",
       " 'داریم',\n",
       " 'شاهان',\n",
       " 'آگاهی',\n",
       " 'دویست',\n",
       " 'مبتلا',\n",
       " 'اوقات',\n",
       " 'تکمیل',\n",
       " 'چندان',\n",
       " 'علامت',\n",
       " 'بدلیل',\n",
       " 'عمران',\n",
       " 'آنگاه',\n",
       " 'زبانی',\n",
       " 'بارها',\n",
       " 'توماس',\n",
       " 'ارمنی',\n",
       " 'مبتنی',\n",
       " 'وظایف',\n",
       " 'کلیسا',\n",
       " 'مذکور',\n",
       " 'نباشد',\n",
       " 'تالیف',\n",
       " 'روبرو',\n",
       " 'فرانک',\n",
       " 'سرباز',\n",
       " 'شاپور',\n",
       " 'عمارت',\n",
       " 'جانبی',\n",
       " 'صفحهٔ',\n",
       " 'اظهار',\n",
       " 'هشتاد',\n",
       " 'سفارت',\n",
       " 'پنهان',\n",
       " 'ممنوع',\n",
       " 'سالها',\n",
       " 'سعودی',\n",
       " 'دسترس',\n",
       " 'جستجو',\n",
       " 'منحصر',\n",
       " 'ساحلی',\n",
       " 'عوارض',\n",
       " 'روانی',\n",
       " 'مقبره',\n",
       " 'ارشاد',\n",
       " 'خوردن',\n",
       " 'مشاور',\n",
       " 'سپرده',\n",
       " 'کشتار',\n",
       " 'مجتمع',\n",
       " 'ایوان',\n",
       " 'کیهان',\n",
       " 'تبعید',\n",
       " 'پدیده',\n",
       " 'کلیبر',\n",
       " 'معدنی',\n",
       " 'تاکید',\n",
       " 'تراکم',\n",
       " 'معتبر',\n",
       " 'درسال',\n",
       " 'واقعه',\n",
       " 'تهدید',\n",
       " 'گرگان',\n",
       " 'بهائی',\n",
       " 'تدریج',\n",
       " 'وبلاگ',\n",
       " 'افشار',\n",
       " 'آبشار',\n",
       " 'خانگی',\n",
       " 'بویژه',\n",
       " 'حقوقی',\n",
       " 'سرکوب',\n",
       " 'توجهی',\n",
       " 'گفتگو',\n",
       " 'پیروز',\n",
       " 'ادیان',\n",
       " 'ششمین',\n",
       " 'ایلام',\n",
       " 'فولاد',\n",
       " 'ایمان',\n",
       " 'بهشتی',\n",
       " 'مالزی',\n",
       " 'عقاید',\n",
       " 'کبیسه',\n",
       " 'تأمین',\n",
       " 'تلفنی',\n",
       " 'دایره',\n",
       " 'منطقی',\n",
       " 'اتمام',\n",
       " 'تجدید',\n",
       " 'مدینه',\n",
       " 'معلوم',\n",
       " 'تیمور',\n",
       " 'محمدی',\n",
       " 'فرمول',\n",
       " 'تقلید',\n",
       " 'جعفری',\n",
       " 'فردوس',\n",
       " 'فشرده',\n",
       " 'مکزیک',\n",
       " 'تألیف',\n",
       " 'سیاره',\n",
       " 'بحران',\n",
       " 'واسطه',\n",
       " 'میشود',\n",
       " 'زیستی',\n",
       " 'کاشان',\n",
       " 'شیطان',\n",
       " 'یکسان',\n",
       " 'نابود',\n",
       " 'متوقف',\n",
       " 'تحریک',\n",
       " 'کمبود',\n",
       " 'دفاعی',\n",
       " 'پایهٔ',\n",
       " 'بستگی',\n",
       " 'تواند',\n",
       " 'علمیه',\n",
       " 'مستقر',\n",
       " 'آگوست',\n",
       " 'کنسرت',\n",
       " 'آثاری',\n",
       " 'درونی',\n",
       " 'هکتار',\n",
       " 'محبوب',\n",
       " 'قبیله',\n",
       " 'تصحیح',\n",
       " 'تاريخ',\n",
       " 'سنندج',\n",
       " 'زرتشت',\n",
       " 'کارگر',\n",
       " 'متشکل',\n",
       " 'معمار',\n",
       " 'میانی',\n",
       " 'بلژیک',\n",
       " 'آرتور',\n",
       " 'خشونت',\n",
       " 'انجیل',\n",
       " 'چارلز',\n",
       " 'سانتی',\n",
       " 'هزاره',\n",
       " 'مراغه',\n",
       " 'خلافت',\n",
       " 'مجسمه',\n",
       " 'منتهی',\n",
       " 'زاویه',\n",
       " 'وسیعی',\n",
       " 'مساله',\n",
       " 'بخصوص',\n",
       " 'هوشنگ',\n",
       " 'معانی',\n",
       " 'ایمنی',\n",
       " 'آبیلا',\n",
       " 'محیطی',\n",
       " 'جوامع',\n",
       " 'اماکن',\n",
       " 'درگیر',\n",
       " 'سوئیس',\n",
       " 'دندان',\n",
       " 'ولتاژ',\n",
       " 'حرکات',\n",
       " 'تسلیم',\n",
       " 'قفقاز',\n",
       " 'اتهام',\n",
       " 'جدایی',\n",
       " 'قبایل',\n",
       " 'پاییز',\n",
       " 'آمدند',\n",
       " 'صحرای',\n",
       " 'علمای',\n",
       " 'جنگلی',\n",
       " 'زمانه',\n",
       " 'رعایت',\n",
       " 'الهام',\n",
       " 'پسران',\n",
       " 'مهران',\n",
       " 'تجاوز',\n",
       " 'الگوی',\n",
       " 'شکسته',\n",
       " 'شکنجه',\n",
       " 'آنجلس',\n",
       " 'تحویل',\n",
       " 'صفویه',\n",
       " 'البرز',\n",
       " 'حرکتی',\n",
       " 'فروند',\n",
       " 'مراکش',\n",
       " 'ویروس',\n",
       " 'حیوان',\n",
       " 'پائین',\n",
       " 'توصیه',\n",
       " 'شبانه',\n",
       " 'ویران',\n",
       " 'عرفان',\n",
       " 'عدالت',\n",
       " 'هیتلر',\n",
       " 'آزمون',\n",
       " 'پیروی',\n",
       " 'رسانه',\n",
       " 'خاموش',\n",
       " 'اخراج',\n",
       " 'راحتی',\n",
       " 'بیروت',\n",
       " 'تمرکز',\n",
       " 'نهاده',\n",
       " 'گفتار',\n",
       " 'برهان',\n",
       " 'سلولی',\n",
       " 'مجازی',\n",
       " 'بسيار',\n",
       " 'ابداع',\n",
       " 'شباهت',\n",
       " 'توقیف',\n",
       " 'اکسید',\n",
       " 'سواحل',\n",
       " 'قاهره',\n",
       " 'مکانی',\n",
       " 'دخالت',\n",
       " 'علائم',\n",
       " 'ژنرال',\n",
       " 'دکتری',\n",
       " 'اواسط',\n",
       " 'رشتهٔ',\n",
       " 'خاصیت',\n",
       " 'ارباب',\n",
       " 'فیلیپ',\n",
       " 'افکار',\n",
       " 'داوود',\n",
       " 'دوستی',\n",
       " 'نبوده',\n",
       " 'مونیخ',\n",
       " 'نگاهی',\n",
       " 'ضروری',\n",
       " 'تشویق',\n",
       " 'یعقوب',\n",
       " 'دراین',\n",
       " 'تکنیک',\n",
       " 'اشخاص',\n",
       " 'اقبال',\n",
       " 'اراضی',\n",
       " 'افغان',\n",
       " 'آلوده',\n",
       " 'نهمین',\n",
       " 'سردشت',\n",
       " 'تعقیب',\n",
       " 'ادعای',\n",
       " 'کتیبه',\n",
       " 'احکام',\n",
       " 'آرامی',\n",
       " 'کلیدی',\n",
       " 'خورده',\n",
       " 'مجاور',\n",
       " 'امامی',\n",
       " 'رمضان',\n",
       " 'قوچان',\n",
       " 'شطرنج',\n",
       " 'شاهین',\n",
       " 'تسخیر',\n",
       " 'معادن',\n",
       " 'نمودن',\n",
       " 'مدارک',\n",
       " 'تمایل',\n",
       " 'زلزله',\n",
       " 'تعلیم',\n",
       " 'کوروش',\n",
       " 'شافعی',\n",
       " 'مخلوط',\n",
       " 'مرتبه',\n",
       " 'برگشت',\n",
       " 'کاووس',\n",
       " 'توافق',\n",
       " 'معارف',\n",
       " 'مبانی',\n",
       " 'کریمی',\n",
       " 'متروی',\n",
       " 'کمتری',\n",
       " 'اجزای',\n",
       " 'معتدل',\n",
       " 'بتوان',\n",
       " 'معنوی',\n",
       " 'اینها',\n",
       " 'رفتند',\n",
       " 'قضایی',\n",
       " 'دیپلم',\n",
       " 'موازی',\n",
       " 'تعادل',\n",
       " 'اوستا',\n",
       " 'درستی',\n",
       " 'صندوق',\n",
       " 'عکاسی',\n",
       " 'جولای',\n",
       " 'کرانه',\n",
       " 'میلان',\n",
       " 'کروبی',\n",
       " 'انزلی',\n",
       " 'تفکیک',\n",
       " 'بردند',\n",
       " 'وزیری',\n",
       " 'هندسه',\n",
       " 'ماهیت',\n",
       " 'شوشتر',\n",
       " 'تخمین',\n",
       " 'هلندی',\n",
       " 'مهارت',\n",
       " 'سحابی',\n",
       " 'تکثیر',\n",
       " 'راسته',\n",
       " 'مهاجر',\n",
       " 'قاعده',\n",
       " 'سلامت',\n",
       " 'نامید',\n",
       " 'محلول',\n",
       " 'باختر',\n",
       " 'متخصص',\n",
       " 'اسامی',\n",
       " 'شاگرد',\n",
       " 'ژنتیک',\n",
       " 'منافع',\n",
       " 'نژادی',\n",
       " 'منسوب',\n",
       " 'محلات',\n",
       " 'پوستر',\n",
       " 'اوضاع',\n",
       " 'بلندی',\n",
       " 'فلزات',\n",
       " 'ابراز',\n",
       " 'سرانه',\n",
       " 'شاملو',\n",
       " 'متحرک',\n",
       " 'مصالح',\n",
       " 'تزریق',\n",
       " 'سیوند',\n",
       " 'آرامش',\n",
       " 'ادغام',\n",
       " 'شمشیر',\n",
       " 'خانهٔ',\n",
       " 'کشیدن',\n",
       " 'مسافر',\n",
       " 'پذیری',\n",
       " 'مطلوب',\n",
       " 'شواهد',\n",
       " 'تعطیل',\n",
       " 'آن\\u200cجا',\n",
       " 'برتری',\n",
       " 'انگور',\n",
       " 'شاهرخ',\n",
       " 'خاوری',\n",
       " 'مقیاس',\n",
       " 'مزرعه',\n",
       " 'پهنای',\n",
       " 'اعزام',\n",
       " 'رطوبت',\n",
       " 'عراقی',\n",
       " 'آماری',\n",
       " 'مساجد',\n",
       " 'رسمیت',\n",
       " 'داراي',\n",
       " 'سيستم',\n",
       " 'گیرند',\n",
       " 'تومان',\n",
       " 'جنسیت',\n",
       " 'نگاری',\n",
       " 'اشیاء',\n",
       " 'مساوی',\n",
       " 'بهینه',\n",
       " 'اسمیت',\n",
       " 'گرایی',\n",
       " 'آموخت',\n",
       " 'ترکان',\n",
       " 'رضایی',\n",
       " 'زیارت',\n",
       " 'سخنان',\n",
       " 'خلبان',\n",
       " 'امضای',\n",
       " 'اسحاق',\n",
       " 'باریک',\n",
       " 'شهادت',\n",
       " 'سیاوش',\n",
       " 'نظرات',\n",
       " 'سادگی',\n",
       " 'اضافی',\n",
       " 'دائمی',\n",
       " 'سامان',\n",
       " 'تجربی',\n",
       " 'کودتا',\n",
       " 'دشوار',\n",
       " 'انگشت',\n",
       " 'منتخب',\n",
       " 'فرشته',\n",
       " 'پانصد',\n",
       " 'ايجاد',\n",
       " 'اثرات',\n",
       " 'مباحث',\n",
       " 'ایفای',\n",
       " 'هندسی',\n",
       " 'عثمان',\n",
       " 'تاریک',\n",
       " 'دهانه',\n",
       " 'منتقد',\n",
       " 'دهکده',\n",
       " 'شبکهٔ',\n",
       " 'شماری',\n",
       " 'عفونت',\n",
       " 'تمرین',\n",
       " 'طوایف',\n",
       " 'نوکیا',\n",
       " 'مثنوی',\n",
       " 'رکورد']"
      ]
     },
     "execution_count": 3,
     "metadata": {},
     "output_type": "execute_result"
    }
   ],
   "source": [
    "faword_list"
   ]
  },
  {
   "cell_type": "markdown",
   "id": "60b98117-faeb-46bb-a7b8-7e3b2311722c",
   "metadata": {
    "jp-MarkdownHeadingCollapsed": true
   },
   "source": [
    "#### Testing to create a function that reads Persian words and ignore first lines of text"
   ]
  },
  {
   "cell_type": "code",
   "execution_count": 27,
   "id": "2e6efe6c-7e9b-40e9-9411-394163fd498e",
   "metadata": {},
   "outputs": [
    {
     "name": "stdout",
     "output_type": "stream",
     "text": [
      "406160\n"
     ]
    }
   ],
   "source": [
    "# persian_wikipedia.txt  data\n",
    "\n",
    "with open('./src/data/persian-wikipedia.txt') as file:\n",
    "    counter = 0\n",
    "    faword_freq_list = []\n",
    "    for line in file:\n",
    "        # print(line.strip())\n",
    "        \n",
    "        counter += 1\n",
    "        if counter <= 20:\n",
    "            # print(\"Now it's the end.\")\n",
    "            continue\n",
    "\n",
    "        faword, freq = line.strip().split()\n",
    "        freq = int(freq)\n",
    "\n",
    "        faword_freq_list.append((faword, freq))\n",
    "\n",
    "        # print(f'The {faword} with frequency of {freq} is stored.')\n",
    "        # if counter == 35:\n",
    "        #     print(faword_freq_list[0][1])\n",
    "        #     break\n",
    "print(len(faword_freq_list))"
   ]
  },
  {
   "cell_type": "code",
   "execution_count": 17,
   "id": "38c9dbfd-f2b9-4d58-a861-cff218023382",
   "metadata": {},
   "outputs": [],
   "source": [
    "faword_freq_list = list(filter(lambda w: len(w[0]) == 5, faword_freq_list))"
   ]
  },
  {
   "cell_type": "code",
   "execution_count": 18,
   "id": "1212c0a4-f281-4f72-9a66-a879184ba1e8",
   "metadata": {},
   "outputs": [
    {
     "data": {
      "text/plain": [
       "[('ایران', 83178),\n",
       " ('منابع', 57741),\n",
       " ('تاریخ', 44379),\n",
       " ('سیارک', 43029),\n",
       " ('استان', 35486),\n",
       " ('عنوان', 30183),\n",
       " ('بیرون', 29967),\n",
       " ('تهران', 29488),\n",
       " ('پیوند', 29386),\n",
       " ('جمعیت', 24228)]"
      ]
     },
     "execution_count": 18,
     "metadata": {},
     "output_type": "execute_result"
    }
   ],
   "source": [
    "faword_freq_list[0:10]"
   ]
  },
  {
   "cell_type": "code",
   "execution_count": 19,
   "id": "60ae2686-8777-45b4-9c77-a31ce039898c",
   "metadata": {},
   "outputs": [],
   "source": [
    "faword_freq_list = sorted(faword_freq_list, key=lambda w: w[1], reverse=True)"
   ]
  },
  {
   "cell_type": "code",
   "execution_count": 21,
   "id": "b75ec690-37ae-4159-8ed9-96dc560c0203",
   "metadata": {},
   "outputs": [
    {
     "data": {
      "text/plain": [
       "67126"
      ]
     },
     "execution_count": 21,
     "metadata": {},
     "output_type": "execute_result"
    }
   ],
   "source": [
    "len(faword_freq_list)"
   ]
  },
  {
   "cell_type": "code",
   "execution_count": 22,
   "id": "1d289b70-ebae-4ad2-ba3b-c2139baafa8f",
   "metadata": {},
   "outputs": [],
   "source": [
    "faword_freq_list = faword_freq_list[0:1000]"
   ]
  },
  {
   "cell_type": "code",
   "execution_count": 23,
   "id": "47ceacb8-23ad-45da-85c5-edcc4c6679e0",
   "metadata": {},
   "outputs": [
    {
     "data": {
      "text/plain": [
       "1000"
      ]
     },
     "execution_count": 23,
     "metadata": {},
     "output_type": "execute_result"
    }
   ],
   "source": [
    "len(faword_freq_list)"
   ]
  },
  {
   "cell_type": "code",
   "execution_count": 24,
   "id": "1ac679ba-a076-425f-9e90-d17690d72ba9",
   "metadata": {},
   "outputs": [],
   "source": [
    "fa_words = [w[0] for w in faword_freq_list]"
   ]
  },
  {
   "cell_type": "code",
   "execution_count": null,
   "id": "cb8082b1-91f6-450e-9679-f3f0a0a888fb",
   "metadata": {},
   "outputs": [],
   "source": []
  },
  {
   "cell_type": "code",
   "execution_count": null,
   "id": "81adb37d-cfc5-4e5a-a6a4-553c86f47b34",
   "metadata": {},
   "outputs": [],
   "source": []
  },
  {
   "cell_type": "markdown",
   "id": "af09394c-633b-4bb4-b9be-afea65ecf24f",
   "metadata": {},
   "source": [
    "### 3rd dataset:"
   ]
  },
  {
   "cell_type": "code",
   "execution_count": 5,
   "id": "b7767d0d-6c9a-44e6-bb91-ff965deec717",
   "metadata": {},
   "outputs": [],
   "source": [
    "path_to_rira_data = './src/data/rira-classic-poems.txt'"
   ]
  },
  {
   "cell_type": "code",
   "execution_count": 6,
   "id": "f43dad4b-7476-450a-a6e4-b4bf6b0bc611",
   "metadata": {},
   "outputs": [],
   "source": [
    "word_from_poems = generate_word_freq_fa(path_to_rira_data, word_count=5, limit=500)"
   ]
  },
  {
   "cell_type": "code",
   "execution_count": 7,
   "id": "60f405bc-9081-4102-94a7-50341464be06",
   "metadata": {
    "scrolled": true
   },
   "outputs": [
    {
     "data": {
      "text/plain": [
       "500"
      ]
     },
     "execution_count": 7,
     "metadata": {},
     "output_type": "execute_result"
    }
   ],
   "source": [
    "len(word_from_poems)"
   ]
  },
  {
   "cell_type": "markdown",
   "id": "465ba3f6-5a30-4c64-8586-9fd25fb5bf64",
   "metadata": {},
   "source": [
    "## Handle RTL & Font in both jupyter and terminal"
   ]
  },
  {
   "cell_type": "code",
   "execution_count": 8,
   "id": "ea52e444-dfc6-43b2-83a0-e0fbe0ea9382",
   "metadata": {},
   "outputs": [
    {
     "name": "stdout",
     "output_type": "stream",
     "text": [
      "ایران\n"
     ]
    }
   ],
   "source": [
    "print(faword_list[0])"
   ]
  },
  {
   "cell_type": "code",
   "execution_count": 9,
   "id": "db4e4fa1-b759-4e03-bafb-2d5027a2fbe2",
   "metadata": {},
   "outputs": [
    {
     "name": "stdout",
     "output_type": "stream",
     "text": [
      "ایران منابع تاریخ سیارک استان عنوان بیرون تهران پیوند جمعیت برابر هستند مرکزی زندگی دارای فارسی اجرام تصویر فهرست مانند "
     ]
    }
   ],
   "source": [
    "for w in faword_list[0:20]:\n",
    "    print(w, end=' ')"
   ]
  },
  {
   "cell_type": "code",
   "execution_count": null,
   "id": "409a0136-8e05-46f9-9822-cfe4aed9203e",
   "metadata": {},
   "outputs": [],
   "source": []
  },
  {
   "cell_type": "markdown",
   "id": "b99b721b-8d1b-4926-882c-5feaa0588503",
   "metadata": {},
   "source": [
    "## Persian Wordle itself!\n"
   ]
  },
  {
   "cell_type": "code",
   "execution_count": 17,
   "id": "7511d958-b19e-4483-8648-4ee68abb7b7b",
   "metadata": {},
   "outputs": [
    {
     "data": {
      "text/plain": [
       "1000"
      ]
     },
     "execution_count": 17,
     "metadata": {},
     "output_type": "execute_result"
    }
   ],
   "source": [
    "len(faword_list)"
   ]
  },
  {
   "cell_type": "code",
   "execution_count": null,
   "id": "814498d9-7a13-491f-bcfd-a7005de7f3d7",
   "metadata": {},
   "outputs": [],
   "source": [
    "\n"
   ]
  },
  {
   "cell_type": "markdown",
   "id": "6de72603-7090-4b8d-99c7-ae7fb5f15b6b",
   "metadata": {},
   "source": [
    "### generating the answer word:"
   ]
  },
  {
   "cell_type": "code",
   "execution_count": 10,
   "id": "bad0b973-4aa3-482a-b76d-3543c40f7220",
   "metadata": {},
   "outputs": [],
   "source": [
    "import random"
   ]
  },
  {
   "cell_type": "code",
   "execution_count": 11,
   "id": "3878dbd9-8b56-43f5-af75-498f01417e4b",
   "metadata": {},
   "outputs": [],
   "source": [
    "random.seed(42)"
   ]
  },
  {
   "cell_type": "code",
   "execution_count": 98,
   "id": "88903492-7530-4577-8d9e-346b269898b5",
   "metadata": {},
   "outputs": [],
   "source": [
    "# answer_index = random.randint(0, len(words) - 1)\n",
    "# answer_word = words[answer_index]\n",
    "\n",
    "# print(answer_word, answer_index)"
   ]
  },
  {
   "cell_type": "code",
   "execution_count": 12,
   "id": "19fa9395-f7ef-4182-af43-50a89cc8c511",
   "metadata": {},
   "outputs": [],
   "source": [
    "answer_word = random.choice(faword_list).upper()"
   ]
  },
  {
   "cell_type": "code",
   "execution_count": 13,
   "id": "f0383e14-8a4f-432b-8646-7cad51a6c627",
   "metadata": {},
   "outputs": [
    {
     "data": {
      "text/plain": [
       "'گرگان'"
      ]
     },
     "execution_count": 13,
     "metadata": {},
     "output_type": "execute_result"
    }
   ],
   "source": [
    "answer_word"
   ]
  },
  {
   "cell_type": "code",
   "execution_count": null,
   "id": "a86182f2-0995-41f0-8fbb-8ccb1d9a276f",
   "metadata": {},
   "outputs": [],
   "source": []
  },
  {
   "cell_type": "markdown",
   "id": "93d8442c-abc3-42d7-b920-a282e58c9d61",
   "metadata": {},
   "source": [
    "### Wordle"
   ]
  },
  {
   "cell_type": "code",
   "execution_count": 14,
   "id": "088ee75b-6590-4c71-977f-9e926ba71a16",
   "metadata": {},
   "outputs": [],
   "source": [
    "word_count = 5"
   ]
  },
  {
   "cell_type": "code",
   "execution_count": 15,
   "id": "402f1797-0639-4a07-9939-e956c61b4240",
   "metadata": {},
   "outputs": [
    {
     "name": "stdin",
     "output_type": "stream",
     "text": [
      "این تلاش 1ام شماست، لطفا کلمه‌ای 5 حرفی را وارد کنید (یا برای خروج حرف خ را وارد کنید): صورت\n"
     ]
    },
    {
     "name": "stdout",
     "output_type": "stream",
     "text": [
      "تعداد حروف اشتباه است، دوباره امتحان کن\n"
     ]
    },
    {
     "name": "stdin",
     "output_type": "stream",
     "text": [
      "این تلاش 1ام شماست، لطفا کلمه‌ای 5 حرفی را وارد کنید (یا برای خروج حرف خ را وارد کنید): مخمور\n"
     ]
    },
    {
     "name": "stdout",
     "output_type": "stream",
     "text": [
      "\u001b[1m\u001b[7m\u001b[30m م \u001b[0m \u001b[1m\u001b[7m\u001b[30m خ \u001b[0m \u001b[1m\u001b[7m\u001b[30m م \u001b[0m \u001b[1m\u001b[7m\u001b[30m و \u001b[0m \u001b[1m\u001b[7m\u001b[34m ر \u001b[0m \n"
     ]
    },
    {
     "name": "stdin",
     "output_type": "stream",
     "text": [
      "این تلاش 2ام شماست، لطفا کلمه‌ای 5 حرفی را وارد کنید (یا برای خروج حرف خ را وارد کنید): رهایی\n"
     ]
    },
    {
     "name": "stdout",
     "output_type": "stream",
     "text": [
      "\u001b[1m\u001b[7m\u001b[34m ر \u001b[0m \u001b[1m\u001b[7m\u001b[30m ه \u001b[0m \u001b[1m\u001b[7m\u001b[34m ا \u001b[0m \u001b[1m\u001b[7m\u001b[30m ی \u001b[0m \u001b[1m\u001b[7m\u001b[30m ی \u001b[0m \n"
     ]
    },
    {
     "name": "stdin",
     "output_type": "stream",
     "text": [
      "این تلاش 3ام شماست، لطفا کلمه‌ای 5 حرفی را وارد کنید (یا برای خروج حرف خ را وارد کنید): کردنی\n"
     ]
    },
    {
     "name": "stdout",
     "output_type": "stream",
     "text": [
      "\u001b[1m\u001b[7m\u001b[30m ک \u001b[0m \u001b[1m\u001b[7m\u001b[32m ر \u001b[0m \u001b[1m\u001b[7m\u001b[30m د \u001b[0m \u001b[1m\u001b[7m\u001b[34m ن \u001b[0m \u001b[1m\u001b[7m\u001b[30m ی \u001b[0m \n"
     ]
    },
    {
     "name": "stdin",
     "output_type": "stream",
     "text": [
      "این تلاش 4ام شماست، لطفا کلمه‌ای 5 حرفی را وارد کنید (یا برای خروج حرف خ را وارد کنید): کونده\n"
     ]
    },
    {
     "name": "stdout",
     "output_type": "stream",
     "text": [
      "\u001b[1m\u001b[7m\u001b[30m ک \u001b[0m \u001b[1m\u001b[7m\u001b[30m و \u001b[0m \u001b[1m\u001b[7m\u001b[34m ن \u001b[0m \u001b[1m\u001b[7m\u001b[30m د \u001b[0m \u001b[1m\u001b[7m\u001b[30m ه \u001b[0m \n"
     ]
    },
    {
     "name": "stdin",
     "output_type": "stream",
     "text": [
      "این تلاش 5ام شماست، لطفا کلمه‌ای 5 حرفی را وارد کنید (یا برای خروج حرف خ را وارد کنید): گرگان\n"
     ]
    },
    {
     "name": "stdout",
     "output_type": "stream",
     "text": [
      "\u001b[1m\u001b[7m\u001b[32m گ \u001b[0m \u001b[1m\u001b[7m\u001b[32m ر \u001b[0m \u001b[1m\u001b[7m\u001b[32m گ \u001b[0m \u001b[1m\u001b[7m\u001b[32m ا \u001b[0m \u001b[1m\u001b[7m\u001b[32m ن \u001b[0m \n",
      "\u001b[1m\u001b[7m\u001b[32m تو بردی قهرمان! کلمه‌ی هدف گرگان بود \u001b[0m\n"
     ]
    },
    {
     "name": "stdout",
     "output_type": "stream",
     "text": [
      "\u001b[9m\u001b[7m\u001b[30mW\u001b[0m \u001b[9m\u001b[7m\u001b[30mU\u001b[0m \u001b[9m\u001b[7m\u001b[30mA\u001b[0m \u001b[9m\u001b[7m\u001b[30mL\u001b[0m \u001b[9m\u001b[7m\u001b[32mE\u001b[0m \n"
     ]
    },
    {
     "name": "stdout",
     "output_type": "stream",
     "text": [
      "This is your 2 chance, to enter a 5 length word (or enter q to exit): lance\n"
     ]
    },
    {
     "name": "stdout",
     "output_type": "stream",
     "text": [
      "\u001b[9m\u001b[7m\u001b[30mL\u001b[0m \u001b[9m\u001b[7m\u001b[30mA\u001b[0m \u001b[9m\u001b[7m\u001b[30mN\u001b[0m \u001b[9m\u001b[7m\u001b[30mC\u001b[0m \u001b[9m\u001b[7m\u001b[32mE\u001b[0m \n"
     ]
    },
    {
     "name": "stdout",
     "output_type": "stream",
     "text": [
      "This is your 3 chance, to enter a 5 length word (or enter q to exit): rhode\n"
     ]
    },
    {
     "name": "stdout",
     "output_type": "stream",
     "text": [
      "\u001b[9m\u001b[7m\u001b[32mR\u001b[0m \u001b[9m\u001b[7m\u001b[32mH\u001b[0m \u001b[9m\u001b[7m\u001b[32mO\u001b[0m \u001b[9m\u001b[7m\u001b[32mD\u001b[0m \u001b[9m\u001b[7m\u001b[32mE\u001b[0m \n",
      "\u001b[9m\u001b[7m\u001b[32mYou won hero! The word was RHODE\u001b[0m\n"
     ]
    }
   ],
   "source": [
    "num_try = 7\n",
    "try_num = 1\n",
    "\n",
    "while True:\n",
    "    # guess = input(f'This is your {try_num} chance, to enter a {word_count} length word (or enter q to exit):').upper()\n",
    "    guess = input(f'این تلاش {try_num}ام شماست، لطفا کلمه‌ای {word_count} حرفی را وارد کنید (یا برای خروج حرف خ را وارد کنید):').upper()\n",
    "    # guess == input(f'کلمه‌ی {word_count} حرفی خود را وارد کنید:').upper()\n",
    "    \n",
    "    if guess.lower() == \"q\":\n",
    "        break\n",
    "    elif guess == \"خ\":\n",
    "        break\n",
    "\n",
    "\n",
    "    # checking word length:\n",
    "    if len(guess) != word_count:\n",
    "        # print(\"wrong word length! try again.\")\n",
    "        print(\"تعداد حروف اشتباه است، دوباره امتحان کن\")\n",
    "        continue\n",
    "\n",
    "    # # checking if input is a meaningful word:\n",
    "    # if guess not in words:\n",
    "    #     print(\"Not a word! try again:\")\n",
    "    #     continue\n",
    "\n",
    "    # check input with answer:\n",
    "    for g_letter, a_letter in zip(guess, answer_word):\n",
    "        # print(g_letter, a_letter)\n",
    "        if g_letter == a_letter:\n",
    "            print_valid(g_letter, end=\" \")\n",
    "        elif g_letter in answer_word:\n",
    "            print_position_invalid(g_letter, end=\" \")\n",
    "        else:\n",
    "            print_invalid(g_letter, end=\" \")\n",
    "        \n",
    "    print()\n",
    "    \n",
    "    # check the success:\n",
    "    if guess == answer_word:\n",
    "        # print_valid(f\"You won hero! The word was {answer_word}\")\n",
    "        print_valid(f\"تو بردی قهرمان! کلمه‌ی هدف {answer_word} بود\")\n",
    "        break\n",
    "\n",
    "    try_num += 1\n",
    "    if try_num > num_try:\n",
    "        # print_invalid(f\"The word was {answer_word}, sorry you didn't catch it :(\")\n",
    "        print_invalid(f\"کلمه‌ی درست {answer_word} بود، انشالله دفعه بعد :(\")\n",
    "        break"
   ]
  },
  {
   "cell_type": "code",
   "execution_count": null,
   "id": "26b1c032-e4aa-4103-b3b3-67ad4b8e1f77",
   "metadata": {},
   "outputs": [],
   "source": [
    "\n"
   ]
  },
  {
   "cell_type": "markdown",
   "id": "e68cbe3b-41c9-4b64-a741-d09476d50a68",
   "metadata": {},
   "source": [
    "## Persian Literature Wordle"
   ]
  },
  {
   "cell_type": "code",
   "execution_count": null,
   "id": "e723c693-ade1-4408-8c3d-0ec64d66b1c3",
   "metadata": {},
   "outputs": [],
   "source": []
  },
  {
   "cell_type": "markdown",
   "id": "34984f7e-88ab-47b6-a304-1795b14f79bd",
   "metadata": {
    "jp-MarkdownHeadingCollapsed": true
   },
   "source": [
    "### generating the answer word:"
   ]
  },
  {
   "cell_type": "code",
   "execution_count": 9,
   "id": "8c614dc6-e8d7-43fc-a3c4-266870903c60",
   "metadata": {},
   "outputs": [],
   "source": [
    "import random"
   ]
  },
  {
   "cell_type": "code",
   "execution_count": 10,
   "id": "dcc3f1b8-4778-45f7-a8f1-f6804e08e4d2",
   "metadata": {},
   "outputs": [],
   "source": [
    "random.seed(42)"
   ]
  },
  {
   "cell_type": "code",
   "execution_count": 11,
   "id": "9f3e8f94-e895-440b-9aae-49f6fc6c86cb",
   "metadata": {},
   "outputs": [],
   "source": [
    "# answer_index = random.randint(0, len(words) - 1)\n",
    "# answer_word = words[answer_index]\n",
    "\n",
    "# print(answer_word, answer_index)"
   ]
  },
  {
   "cell_type": "code",
   "execution_count": 14,
   "id": "1e24d04f-92bb-4c34-b5aa-6f6839715014",
   "metadata": {},
   "outputs": [],
   "source": [
    "rira_answer_word = random.choice(word_from_poems).upper()"
   ]
  },
  {
   "cell_type": "code",
   "execution_count": 15,
   "id": "48e80f98-c647-4146-9517-554c6b309f49",
   "metadata": {},
   "outputs": [
    {
     "data": {
      "text/plain": [
       "'فرزند'"
      ]
     },
     "execution_count": 15,
     "metadata": {},
     "output_type": "execute_result"
    }
   ],
   "source": [
    "rira_answer_word"
   ]
  },
  {
   "cell_type": "code",
   "execution_count": null,
   "id": "20bdfb91-b385-479f-babf-64bd3abc138d",
   "metadata": {},
   "outputs": [],
   "source": []
  },
  {
   "cell_type": "markdown",
   "id": "80b675fa-fe38-4431-9715-d509cb036400",
   "metadata": {
    "jp-MarkdownHeadingCollapsed": true
   },
   "source": [
    "### Wordle"
   ]
  },
  {
   "cell_type": "code",
   "execution_count": 14,
   "id": "5765f024-128b-4d7f-84f5-e696507e58ad",
   "metadata": {},
   "outputs": [],
   "source": [
    "word_count = 5"
   ]
  },
  {
   "cell_type": "code",
   "execution_count": 15,
   "id": "62cbba73-fc75-42ab-b2e2-9287c1055ad6",
   "metadata": {},
   "outputs": [
    {
     "name": "stdin",
     "output_type": "stream",
     "text": [
      "این تلاش 1ام شماست، لطفا کلمه‌ای 5 حرفی را وارد کنید (یا برای خروج حرف خ را وارد کنید): صورت\n"
     ]
    },
    {
     "name": "stdout",
     "output_type": "stream",
     "text": [
      "تعداد حروف اشتباه است، دوباره امتحان کن\n"
     ]
    },
    {
     "name": "stdin",
     "output_type": "stream",
     "text": [
      "این تلاش 1ام شماست، لطفا کلمه‌ای 5 حرفی را وارد کنید (یا برای خروج حرف خ را وارد کنید): مخمور\n"
     ]
    },
    {
     "name": "stdout",
     "output_type": "stream",
     "text": [
      "\u001b[1m\u001b[7m\u001b[30m م \u001b[0m \u001b[1m\u001b[7m\u001b[30m خ \u001b[0m \u001b[1m\u001b[7m\u001b[30m م \u001b[0m \u001b[1m\u001b[7m\u001b[30m و \u001b[0m \u001b[1m\u001b[7m\u001b[34m ر \u001b[0m \n"
     ]
    },
    {
     "name": "stdin",
     "output_type": "stream",
     "text": [
      "این تلاش 2ام شماست، لطفا کلمه‌ای 5 حرفی را وارد کنید (یا برای خروج حرف خ را وارد کنید): رهایی\n"
     ]
    },
    {
     "name": "stdout",
     "output_type": "stream",
     "text": [
      "\u001b[1m\u001b[7m\u001b[34m ر \u001b[0m \u001b[1m\u001b[7m\u001b[30m ه \u001b[0m \u001b[1m\u001b[7m\u001b[34m ا \u001b[0m \u001b[1m\u001b[7m\u001b[30m ی \u001b[0m \u001b[1m\u001b[7m\u001b[30m ی \u001b[0m \n"
     ]
    },
    {
     "name": "stdin",
     "output_type": "stream",
     "text": [
      "این تلاش 3ام شماست، لطفا کلمه‌ای 5 حرفی را وارد کنید (یا برای خروج حرف خ را وارد کنید): کردنی\n"
     ]
    },
    {
     "name": "stdout",
     "output_type": "stream",
     "text": [
      "\u001b[1m\u001b[7m\u001b[30m ک \u001b[0m \u001b[1m\u001b[7m\u001b[32m ر \u001b[0m \u001b[1m\u001b[7m\u001b[30m د \u001b[0m \u001b[1m\u001b[7m\u001b[34m ن \u001b[0m \u001b[1m\u001b[7m\u001b[30m ی \u001b[0m \n"
     ]
    },
    {
     "name": "stdin",
     "output_type": "stream",
     "text": [
      "این تلاش 4ام شماست، لطفا کلمه‌ای 5 حرفی را وارد کنید (یا برای خروج حرف خ را وارد کنید): کونده\n"
     ]
    },
    {
     "name": "stdout",
     "output_type": "stream",
     "text": [
      "\u001b[1m\u001b[7m\u001b[30m ک \u001b[0m \u001b[1m\u001b[7m\u001b[30m و \u001b[0m \u001b[1m\u001b[7m\u001b[34m ن \u001b[0m \u001b[1m\u001b[7m\u001b[30m د \u001b[0m \u001b[1m\u001b[7m\u001b[30m ه \u001b[0m \n"
     ]
    },
    {
     "name": "stdin",
     "output_type": "stream",
     "text": [
      "این تلاش 5ام شماست، لطفا کلمه‌ای 5 حرفی را وارد کنید (یا برای خروج حرف خ را وارد کنید): گرگان\n"
     ]
    },
    {
     "name": "stdout",
     "output_type": "stream",
     "text": [
      "\u001b[1m\u001b[7m\u001b[32m گ \u001b[0m \u001b[1m\u001b[7m\u001b[32m ر \u001b[0m \u001b[1m\u001b[7m\u001b[32m گ \u001b[0m \u001b[1m\u001b[7m\u001b[32m ا \u001b[0m \u001b[1m\u001b[7m\u001b[32m ن \u001b[0m \n",
      "\u001b[1m\u001b[7m\u001b[32m تو بردی قهرمان! کلمه‌ی هدف گرگان بود \u001b[0m\n"
     ]
    },
    {
     "name": "stdout",
     "output_type": "stream",
     "text": [
      "\u001b[9m\u001b[7m\u001b[30mW\u001b[0m \u001b[9m\u001b[7m\u001b[30mU\u001b[0m \u001b[9m\u001b[7m\u001b[30mA\u001b[0m \u001b[9m\u001b[7m\u001b[30mL\u001b[0m \u001b[9m\u001b[7m\u001b[32mE\u001b[0m \n"
     ]
    },
    {
     "name": "stdout",
     "output_type": "stream",
     "text": [
      "This is your 2 chance, to enter a 5 length word (or enter q to exit): lance\n"
     ]
    },
    {
     "name": "stdout",
     "output_type": "stream",
     "text": [
      "\u001b[9m\u001b[7m\u001b[30mL\u001b[0m \u001b[9m\u001b[7m\u001b[30mA\u001b[0m \u001b[9m\u001b[7m\u001b[30mN\u001b[0m \u001b[9m\u001b[7m\u001b[30mC\u001b[0m \u001b[9m\u001b[7m\u001b[32mE\u001b[0m \n"
     ]
    },
    {
     "name": "stdout",
     "output_type": "stream",
     "text": [
      "This is your 3 chance, to enter a 5 length word (or enter q to exit): rhode\n"
     ]
    },
    {
     "name": "stdout",
     "output_type": "stream",
     "text": [
      "\u001b[9m\u001b[7m\u001b[32mR\u001b[0m \u001b[9m\u001b[7m\u001b[32mH\u001b[0m \u001b[9m\u001b[7m\u001b[32mO\u001b[0m \u001b[9m\u001b[7m\u001b[32mD\u001b[0m \u001b[9m\u001b[7m\u001b[32mE\u001b[0m \n",
      "\u001b[9m\u001b[7m\u001b[32mYou won hero! The word was RHODE\u001b[0m\n"
     ]
    }
   ],
   "source": [
    "num_try = 7\n",
    "try_num = 1\n",
    "\n",
    "while True:\n",
    "    # guess = input(f'This is your {try_num} chance, to enter a {word_count} length word (or enter q to exit):').upper()\n",
    "    guess = input(f'این تلاش {try_num}ام شماست، لطفا کلمه‌ای {word_count} حرفی را وارد کنید (یا برای خروج حرف خ را وارد کنید):').upper()\n",
    "    # guess == input(f'کلمه‌ی {word_count} حرفی خود را وارد کنید:').upper()\n",
    "    \n",
    "    if guess.lower() == \"q\":\n",
    "        break\n",
    "    elif guess == \"خ\":\n",
    "        break\n",
    "\n",
    "\n",
    "    # checking word length:\n",
    "    if len(guess) != word_count:\n",
    "        # print(\"wrong word length! try again.\")\n",
    "        print(\"تعداد حروف اشتباه است، دوباره امتحان کن\")\n",
    "        continue\n",
    "\n",
    "    # # checking if input is a meaningful word:\n",
    "    # if guess not in words:\n",
    "    #     print(\"Not a word! try again:\")\n",
    "    #     continue\n",
    "\n",
    "    # check input with answer:\n",
    "    for g_letter, a_letter in zip(guess, answer_word):\n",
    "        # print(g_letter, a_letter)\n",
    "        if g_letter == a_letter:\n",
    "            print_valid(g_letter, end=\" \")\n",
    "        elif g_letter in answer_word:\n",
    "            print_position_invalid(g_letter, end=\" \")\n",
    "        else:\n",
    "            print_invalid(g_letter, end=\" \")\n",
    "        \n",
    "    print()\n",
    "    \n",
    "    # check the success:\n",
    "    if guess == answer_word:\n",
    "        # print_valid(f\"You won hero! The word was {answer_word}\")\n",
    "        print_valid(f\"تو بردی قهرمان! کلمه‌ی هدف {answer_word} بود\")\n",
    "        break\n",
    "\n",
    "    try_num += 1\n",
    "    if try_num > num_try:\n",
    "        # print_invalid(f\"The word was {answer_word}, sorry you didn't catch it :(\")\n",
    "        print_invalid(f\"کلمه‌ی درست {answer_word} بود، انشالله دفعه بعد :(\")\n",
    "        break"
   ]
  },
  {
   "cell_type": "code",
   "execution_count": null,
   "id": "0b5de80e-bb54-4cdc-8ef9-9d5ba42436a1",
   "metadata": {},
   "outputs": [],
   "source": []
  },
  {
   "cell_type": "markdown",
   "id": "e1b9bfc8-3d87-4bf2-a3cf-829d3cd2dd5e",
   "metadata": {},
   "source": [
    "# TMP"
   ]
  }
 ],
 "metadata": {
  "kernelspec": {
   "display_name": "Python 3 (ipykernel)",
   "language": "python",
   "name": "python3"
  },
  "language_info": {
   "codemirror_mode": {
    "name": "ipython",
    "version": 3
   },
   "file_extension": ".py",
   "mimetype": "text/x-python",
   "name": "python",
   "nbconvert_exporter": "python",
   "pygments_lexer": "ipython3",
   "version": "3.11.11"
  }
 },
 "nbformat": 4,
 "nbformat_minor": 5
}
