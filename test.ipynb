{
 "cells": [
  {
   "cell_type": "code",
   "execution_count": 91,
   "id": "963891d6-8b91-4506-ad18-1608618a2637",
   "metadata": {},
   "outputs": [],
   "source": [
    "from src.utils import generate_word_freq, print_valid, print_position_invalid, print_invalid"
   ]
  },
  {
   "cell_type": "markdown",
   "id": "0f0d7b96-3ce5-43e9-8768-6f89f2fd8080",
   "metadata": {},
   "source": [
    "# Read Data"
   ]
  },
  {
   "cell_type": "markdown",
   "id": "210c78ba-0c22-41f5-be00-99461b97b1ee",
   "metadata": {},
   "source": [
    "Data source: \n",
    "\n",
    "\n",
    "\n",
    "Word frequency data from kaggle (genrated .txt from .csv by Pytopia.ai):\n",
    "https://www.kaggle.com/datasets/rtatman/english-word-frequency\n"
   ]
  },
  {
   "cell_type": "markdown",
   "id": "b050f57c-748d-4f0d-b36c-14d7732257e4",
   "metadata": {},
   "source": [
    "# Build data"
   ]
  },
  {
   "cell_type": "code",
   "execution_count": 92,
   "id": "c2938b2e-0b41-4f1b-bf51-6b1870c2adce",
   "metadata": {},
   "outputs": [],
   "source": [
    "file_path = './src/data/words_frequency.txt'"
   ]
  },
  {
   "cell_type": "code",
   "execution_count": 93,
   "id": "6d924710-9f50-4880-bff3-9af2d28a0ffb",
   "metadata": {},
   "outputs": [],
   "source": [
    "word_count = 5\n",
    "limit = 1000 "
   ]
  },
  {
   "cell_type": "code",
   "execution_count": 94,
   "id": "4d9677a2-146a-4ac5-ba69-1c91f3508365",
   "metadata": {
    "scrolled": true
   },
   "outputs": [],
   "source": [
    "words = generate_word_freq(file_path, word_count=word_count, limit=limit)"
   ]
  },
  {
   "cell_type": "code",
   "execution_count": 95,
   "id": "b028e2d7-60f7-4255-a4b5-0a36b841016f",
   "metadata": {},
   "outputs": [
    {
     "data": {
      "text/plain": [
       "1000"
      ]
     },
     "execution_count": 95,
     "metadata": {},
     "output_type": "execute_result"
    }
   ],
   "source": [
    "len(words)"
   ]
  },
  {
   "cell_type": "markdown",
   "id": "b533a67f-c08b-47de-bdc4-09230cee436f",
   "metadata": {},
   "source": [
    "# Game input_output"
   ]
  },
  {
   "cell_type": "markdown",
   "id": "c84ed8f1-b191-486f-a749-38f2c0023da1",
   "metadata": {},
   "source": [
    "## generating the answer word:"
   ]
  },
  {
   "cell_type": "code",
   "execution_count": 96,
   "id": "470e46fc-889b-44a7-86ee-7aabaea96c37",
   "metadata": {},
   "outputs": [],
   "source": [
    "import random"
   ]
  },
  {
   "cell_type": "code",
   "execution_count": 97,
   "id": "d951e740-1ab9-4bb7-8ca3-f48a932bfb01",
   "metadata": {},
   "outputs": [],
   "source": [
    "random.seed(42)"
   ]
  },
  {
   "cell_type": "code",
   "execution_count": 98,
   "id": "94f9acb5-df21-4244-9950-44a8c9d9c808",
   "metadata": {},
   "outputs": [],
   "source": [
    "# answer_index = random.randint(0, len(words) - 1)\n",
    "# answer_word = words[answer_index]\n",
    "\n",
    "# print(answer_word, answer_index)"
   ]
  },
  {
   "cell_type": "code",
   "execution_count": 99,
   "id": "300e7855-98c9-47ac-a678-f1687e3b1077",
   "metadata": {},
   "outputs": [],
   "source": [
    "answer_word = random.choice(words).upper()"
   ]
  },
  {
   "cell_type": "markdown",
   "id": "e8581444-8212-46b4-be29-501b559c0a1d",
   "metadata": {},
   "source": [
    "# Wordle"
   ]
  },
  {
   "cell_type": "code",
   "execution_count": 100,
   "id": "1140ff7f-2931-4374-b9e5-8980c4e98f7e",
   "metadata": {},
   "outputs": [
    {
     "name": "stdin",
     "output_type": "stream",
     "text": [
      "This is your 1 chance, to enter a 5 length word (or enter q to exit): wuale\n"
     ]
    },
    {
     "name": "stdout",
     "output_type": "stream",
     "text": [
      "\u001b[9m\u001b[7m\u001b[30mW\u001b[0m \u001b[9m\u001b[7m\u001b[30mU\u001b[0m \u001b[9m\u001b[7m\u001b[30mA\u001b[0m \u001b[9m\u001b[7m\u001b[30mL\u001b[0m \u001b[9m\u001b[7m\u001b[32mE\u001b[0m \n"
     ]
    },
    {
     "name": "stdin",
     "output_type": "stream",
     "text": [
      "This is your 2 chance, to enter a 5 length word (or enter q to exit): lance\n"
     ]
    },
    {
     "name": "stdout",
     "output_type": "stream",
     "text": [
      "\u001b[9m\u001b[7m\u001b[30mL\u001b[0m \u001b[9m\u001b[7m\u001b[30mA\u001b[0m \u001b[9m\u001b[7m\u001b[30mN\u001b[0m \u001b[9m\u001b[7m\u001b[30mC\u001b[0m \u001b[9m\u001b[7m\u001b[32mE\u001b[0m \n"
     ]
    },
    {
     "name": "stdin",
     "output_type": "stream",
     "text": [
      "This is your 3 chance, to enter a 5 length word (or enter q to exit): rhode\n"
     ]
    },
    {
     "name": "stdout",
     "output_type": "stream",
     "text": [
      "\u001b[9m\u001b[7m\u001b[32mR\u001b[0m \u001b[9m\u001b[7m\u001b[32mH\u001b[0m \u001b[9m\u001b[7m\u001b[32mO\u001b[0m \u001b[9m\u001b[7m\u001b[32mD\u001b[0m \u001b[9m\u001b[7m\u001b[32mE\u001b[0m \n",
      "\u001b[9m\u001b[7m\u001b[32mYou won hero! The word was RHODE\u001b[0m\n"
     ]
    }
   ],
   "source": [
    "num_try = 7\n",
    "try_num = 1\n",
    "\n",
    "while True:\n",
    "    guess = input(f'This is your {try_num} chance, to enter a {word_count} length word (or enter q to exit):').upper()\n",
    "    \n",
    "    if guess.lower() == \"q\":\n",
    "        break\n",
    "\n",
    "    # checking word length:\n",
    "    if len(guess) != word_count:\n",
    "        print(\"wrong word length! try again.\")\n",
    "        continue\n",
    "\n",
    "    # # checking if input is a meaningful word:\n",
    "    # if guess not in words:\n",
    "    #     print(\"Not a word! try again:\")\n",
    "    #     continue\n",
    "\n",
    "    # check input with answer:\n",
    "    for g_letter, a_letter in zip(guess, answer_word):\n",
    "        # print(g_letter, a_letter)\n",
    "        if g_letter == a_letter:\n",
    "            print_valid(g_letter, end=\" \")\n",
    "        elif g_letter in answer_word:\n",
    "            print_position_invalid(g_letter, end=\" \")\n",
    "        else:\n",
    "            print_invalid(g_letter, end=\" \")\n",
    "        \n",
    "    print()\n",
    "    \n",
    "    # check the success:\n",
    "    if guess == answer_word:\n",
    "        print_valid(f\"You won hero! The word was {answer_word}\")\n",
    "        break\n",
    "\n",
    "    try_num += 1\n",
    "    if try_num > num_try:\n",
    "        print_invalid(f\"The word was {answer_word}, sorry you didn't catch it :(\")\n",
    "        break"
   ]
  },
  {
   "cell_type": "code",
   "execution_count": null,
   "id": "76ca220b-08a1-4b3e-aae2-d46bddea0473",
   "metadata": {},
   "outputs": [],
   "source": []
  }
 ],
 "metadata": {
  "kernelspec": {
   "display_name": "Python 3 (ipykernel)",
   "language": "python",
   "name": "python3"
  },
  "language_info": {
   "codemirror_mode": {
    "name": "ipython",
    "version": 3
   },
   "file_extension": ".py",
   "mimetype": "text/x-python",
   "name": "python",
   "nbconvert_exporter": "python",
   "pygments_lexer": "ipython3",
   "version": "3.11.11"
  }
 },
 "nbformat": 4,
 "nbformat_minor": 5
}
